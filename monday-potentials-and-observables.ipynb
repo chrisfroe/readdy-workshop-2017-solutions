{
 "cells": [
  {
   "cell_type": "markdown",
   "metadata": {},
   "source": [
    "__Task 1)__ \n",
    "\n",
    "Register a piecewise harmonic potential. Perform a simulation on a 2D membrane. From the radial distribution, estimate how this potential looks like, assuming\n",
    "\n",
    "$$ g(r) \\propto e^{-U(r)}$$\n",
    "\n",
    "What could be a source of error? Did you really find the true potential or rather an effective potential?"
   ]
  },
  {
   "cell_type": "code",
   "execution_count": 1,
   "metadata": {
    "collapsed": true
   },
   "outputs": [],
   "source": [
    "import numpy as np\n",
    "import matplotlib.pyplot as plt\n",
    "import contextlib as cl\n",
    "import time\n",
    "\n",
    "import readdy._internal as api\n",
    "api.set_logging_level(\"debug\")"
   ]
  },
  {
   "cell_type": "code",
   "execution_count": 2,
   "metadata": {
    "collapsed": true
   },
   "outputs": [],
   "source": [
    "sim = api.Simulation()\n",
    "sim.set_kernel(\"SingleCPU\")"
   ]
  },
  {
   "cell_type": "code",
   "execution_count": 3,
   "metadata": {},
   "outputs": [],
   "source": [
    "sim.periodic_boundary = [True, True, True]\n",
    "sim.kbt = 1.\n",
    "sim.box_size = api.Vec(30., 30., 20.)\n",
    "\n",
    "# register particle type\n",
    "particle_radius = 0.5\n",
    "sim.register_particle_type(\"A\", 0.2, particle_radius)\n",
    "\n",
    "# the potential that confines particles\n",
    "origin = np.array([-16.,-16.,-0.001])\n",
    "extent = np.array([32.,32.,0.002])\n",
    "sim.register_potential_box(\"A\", 200., api.Vec(*origin), api.Vec(*extent), False)\n",
    "\n",
    "# the pairwise interaction\n",
    "sim.register_potential_piecewise_weak_interaction(\n",
    "    \"A\", \"A\", force_constant=20., desired_particle_distance=2.*particle_radius, \n",
    "    depth=0.93, no_interaction_distance=4.*particle_radius\n",
    ")\n",
    "\n",
    "# add particles\n",
    "rnd = np.random.uniform\n",
    "for i in range(100):\n",
    "    pos = np.array([-10., -10., 0.]) + rnd(size=3) * np.array([20.,20.,0.])\n",
    "    sim.add_particle(\"A\", api.Vec(*pos))"
   ]
  },
  {
   "cell_type": "code",
   "execution_count": 4,
   "metadata": {},
   "outputs": [
    {
     "name": "stdout",
     "output_type": "stream",
     "text": [
      "Simulated 11.99636149700018 seconds\n"
     ]
    }
   ],
   "source": [
    "# define observables and run\n",
    "traj_handle = sim.register_observable_flat_trajectory(stride=10)\n",
    "\n",
    "rdf_data = []\n",
    "def get_rdf(x):\n",
    "    global rdf_data\n",
    "    rdf_data.append(x)\n",
    "\n",
    "rdf_handle = sim.register_observable_radial_distribution(\n",
    "    stride=100, bin_borders=np.arange(0.,7.,0.05), type_count_from=[\"A\"], \n",
    "    type_count_to=[\"A\"], particle_to_density=1., callback=get_rdf\n",
    ")\n",
    "with cl.closing(api.File(\"./obs.h5\", api.FileAction.CREATE, api.FileFlag.OVERWRITE)) as f:\n",
    "    traj_handle.enable_write_to_file(file=f, data_set_name=\"traj\", chunk_size=10000)\n",
    "    t1 = time.perf_counter()\n",
    "    sim.run_scheme_readdy(True) \\\n",
    "        .write_config_to_file(f) \\\n",
    "        .with_reaction_scheduler(\"UncontrolledApproximation\") \\\n",
    "        .with_skin_size(3.) \\\n",
    "        .configure_and_run(50000, 0.005)\n",
    "    t2 = time.perf_counter()\n",
    "    print(\"Simulated\", t2 - t1, \"seconds\")"
   ]
  },
  {
   "cell_type": "code",
   "execution_count": 5,
   "metadata": {},
   "outputs": [
    {
     "name": "stdout",
     "output_type": "stream",
     "text": [
      "Conversion took 0.8008031919998757 seconds\n"
     ]
    }
   ],
   "source": [
    "t1 = time.perf_counter()\n",
    "api.convert_xyz(\"./obs.h5\", \"traj\", \"./traj.xyz\", radii={\"A\": 0.5, \"A2\": 1.26*0.5, \"A3\": 1.44*0.5})\n",
    "t2 = time.perf_counter()\n",
    "print(\"Conversion took\", t2 - t1, \"seconds\")"
   ]
  },
  {
   "cell_type": "code",
   "execution_count": 6,
   "metadata": {
    "collapsed": true
   },
   "outputs": [],
   "source": [
    "rdfs = np.array([x[1] for x in rdf_data])\n",
    "bins = np.array(rdf_data[0][0])\n",
    "n_rdfs = len(rdfs)\n",
    "mean_rdfs = np.sum(rdfs, axis=0) / n_rdfs"
   ]
  },
  {
   "cell_type": "code",
   "execution_count": 7,
   "metadata": {
    "collapsed": true
   },
   "outputs": [],
   "source": [
    "# rdf in readdy is rescaled with factor 4 pi r^2 -> reduce this scaling to 2 pi r\n",
    "mean_rdfs *= 2. * bins"
   ]
  },
  {
   "cell_type": "code",
   "execution_count": 8,
   "metadata": {},
   "outputs": [
    {
     "data": {
      "image/png": "[encoded data removed]",
      "text/plain": [
       "<matplotlib.figure.Figure at 0x7f7f2c860da0>"
      ]
     },
     "metadata": {},
     "output_type": "display_data"
    }
   ],
   "source": [
    "plt.plot(bins, mean_rdfs)\n",
    "plt.show()"
   ]
  },
  {
   "cell_type": "code",
   "execution_count": 9,
   "metadata": {},
   "outputs": [
    {
     "name": "stderr",
     "output_type": "stream",
     "text": [
      "/home/chris/miniconda2/envs/readdy-workshop/lib/python3.6/site-packages/ipykernel_launcher.py:1: RuntimeWarning: divide by zero encountered in log\n",
      "  \"\"\"Entry point for launching an IPython kernel.\n"
     ]
    },
    {
     "data": {
      "image/png": "[encoded data removed]",
      "text/plain": [
       "<matplotlib.figure.Figure at 0x7f7f288df0b8>"
      ]
     },
     "metadata": {},
     "output_type": "display_data"
    }
   ],
   "source": [
    "plt.plot(bins, -np.log(mean_rdfs))\n",
    "plt.show()"
   ]
  },
  {
   "cell_type": "code",
   "execution_count": null,
   "metadata": {
    "collapsed": true
   },
   "outputs": [],
   "source": []
  }
 ],
 "metadata": {
  "kernelspec": {
   "display_name": "Python 3",
   "language": "python",
   "name": "python3"
  },
  "language_info": {
   "codemirror_mode": {
    "name": "ipython",
    "version": 3
   },
   "file_extension": ".py",
   "mimetype": "text/x-python",
   "name": "python",
   "nbconvert_exporter": "python",
   "pygments_lexer": "ipython3",
   "version": "3.6.1"
  }
 },
 "nbformat": 4,
 "nbformat_minor": 2
}
