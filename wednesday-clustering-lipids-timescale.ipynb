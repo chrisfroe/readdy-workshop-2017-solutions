{
 "cells": [
  {
   "cell_type": "code",
   "execution_count": 1,
   "metadata": {
    "collapsed": true
   },
   "outputs": [],
   "source": [
    "import numpy as np\n",
    "import matplotlib.pyplot as plt\n",
    "import contextlib as cl\n",
    "import time\n",
    "\n",
    "import readdy._internal as api\n",
    "import readdy._internal.readdybinding.api.top as top\n",
    "api.set_logging_level(\"debug\")\n",
    "\n",
    "sim = api.Simulation()\n",
    "sim.set_kernel(\"SingleCPU\")"
   ]
  },
  {
   "cell_type": "code",
   "execution_count": 2,
   "metadata": {},
   "outputs": [
    {
     "data": {
      "text/plain": [
       "3"
      ]
     },
     "execution_count": 2,
     "metadata": {},
     "output_type": "execute_result"
    }
   ],
   "source": [
    "sim.periodic_boundary = [False, False, False]\n",
    "sim.kbt = 0.8\n",
    "sim.box_size = api.Vec(60., 60., 10.)\n",
    "\n",
    "# register particle type\n",
    "particle_radius = 0.5\n",
    "sim.register_particle_type(\"head\", diffusion_coefficient=.5, radius=2.*particle_radius, flavor=api.ParticleTypeFlavor.TOPOLOGY)\n",
    "sim.register_particle_type(\"tail\", diffusion_coefficient=.5, radius=particle_radius, flavor=api.ParticleTypeFlavor.TOPOLOGY)\n",
    "\n",
    "# the potential that confines particles\n",
    "origin = np.array([-28.,-28.,-0.001])\n",
    "extent = np.array([54.,54.,0.002])\n",
    "sim.register_potential_box(\"head\", 200., api.Vec(*origin), api.Vec(*extent), False)\n",
    "sim.register_potential_box(\"tail\", 200., api.Vec(*origin), api.Vec(*extent), False)\n",
    "\n",
    "# the pairwise interaction\n",
    "sim.register_potential_piecewise_weak_interaction(\n",
    "    \"tail\", \"tail\", force_constant=30., desired_particle_distance=2.*particle_radius, \n",
    "    depth=2.0, no_interaction_distance=4.*particle_radius\n",
    ")\n",
    "sim.register_potential_harmonic_repulsion(\"head\", \"head\", force_constant=30.)\n"
   ]
  },
  {
   "cell_type": "code",
   "execution_count": 4,
   "metadata": {
    "collapsed": true
   },
   "outputs": [],
   "source": [
    "# topologies configuration\n",
    "sim.configure_topology_bond_potential(\"head\", \"tail\", force_constant=50, length=1.)\n",
    "sim.configure_topology_bond_potential(\"tail\", \"tail\", force_constant=50, length=1.)"
   ]
  },
  {
   "cell_type": "code",
   "execution_count": 5,
   "metadata": {
    "collapsed": true
   },
   "outputs": [],
   "source": [
    "# adding the topologies\n",
    "rnd = np.random.uniform\n",
    "for i in range(50):\n",
    "    particles = []\n",
    "    pos = origin + rnd(size=3) * extent\n",
    "    particles.append(sim.create_topology_particle(\"head\", api.Vec(*pos)))\n",
    "    tail_orientation = rnd(size=3)\n",
    "    particles.append(sim.create_topology_particle(\"tail\", api.Vec(*(pos + tail_orientation))))\n",
    "    particles.append(sim.create_topology_particle(\"tail\", api.Vec(*(pos + 2.*tail_orientation))))\n",
    "    topology = sim.add_topology(particles)\n",
    "    topology.get_graph().add_edge(0, 1)\n",
    "    topology.get_graph().add_edge(1, 2)"
   ]
  },
  {
   "cell_type": "code",
   "execution_count": 6,
   "metadata": {},
   "outputs": [
    {
     "name": "stdout",
     "output_type": "stream",
     "text": [
      "Simulated 126.37303330499981 seconds\n"
     ]
    }
   ],
   "source": [
    "# define observables and run\n",
    "traj_handle = sim.register_observable_flat_trajectory(stride=10)\n",
    "\n",
    "particles_data = []\n",
    "def get_particles(x):\n",
    "    global particles_data\n",
    "    particles_data.append(x)\n",
    "\n",
    "handle = sim.register_observable_particles(stride=100, callback=get_particles)\n",
    "    \n",
    "with cl.closing(api.File(\"./obs.h5\", api.FileAction.CREATE, api.FileFlag.OVERWRITE)) as f:\n",
    "    traj_handle.enable_write_to_file(file=f, data_set_name=\"traj\", chunk_size=10000)\n",
    "    t1 = time.perf_counter()\n",
    "    sim.run_scheme_readdy(True) \\\n",
    "        .write_config_to_file(f) \\\n",
    "        .with_reaction_scheduler(\"UncontrolledApproximation\") \\\n",
    "        .configure_and_run(400000, 0.005)\n",
    "    t2 = time.perf_counter()\n",
    "print(\"Simulated\", t2 - t1, \"seconds\")"
   ]
  },
  {
   "cell_type": "code",
   "execution_count": 7,
   "metadata": {},
   "outputs": [
    {
     "name": "stdout",
     "output_type": "stream",
     "text": [
      "Conversion took 11.025460414000008 seconds\n"
     ]
    }
   ],
   "source": [
    "# convert trajectory\n",
    "t1 = time.perf_counter()\n",
    "api.convert_xyz(\"./obs.h5\", \"traj\", \"./traj.xyz\", radii={\"head\": 2.*particle_radius, \"tail\": particle_radius})\n",
    "t2 = time.perf_counter()\n",
    "print(\"Conversion took\", t2 - t1, \"seconds\")"
   ]
  },
  {
   "cell_type": "code",
   "execution_count": 8,
   "metadata": {
    "collapsed": true
   },
   "outputs": [],
   "source": [
    "def get_msd(particles_data):\n",
    "    # obtain positions and ids as numpy arrays\n",
    "    positions = []\n",
    "    ids = []\n",
    "    for t in range(len(particles_data)):\n",
    "        positions.append(\n",
    "            np.array([[x[0], x[1], x[2]] for x in particles_data[t][2]])\n",
    "        )\n",
    "        ids.append(\n",
    "            np.array([x for x in particles_data[t][1]])\n",
    "        )\n",
    "    positions = np.array(positions)\n",
    "    ids = np.array(ids)\n",
    "\n",
    "    # sort the positions with respect to ids in each timestep,\n",
    "    # since they might have changed the index in the positions array\n",
    "    sorted_positions = np.zeros_like(positions)\n",
    "    for t in range(len(ids)):\n",
    "        sort_indices = np.argsort(ids[t])\n",
    "        sorted_positions[t] = positions[t][sort_indices]\n",
    "\n",
    "    # calculate the actual msd\n",
    "    difference = sorted_positions - sorted_positions[0]\n",
    "    squared = difference * difference\n",
    "    squared_deviation = np.sum(squared, axis=2)\n",
    "    n_particles = sorted_positions.shape[1]\n",
    "    mean_squared_deviation = np.sum(squared_deviation, axis=1) / n_particles\n",
    "    return mean_squared_deviation"
   ]
  },
  {
   "cell_type": "code",
   "execution_count": 9,
   "metadata": {
    "collapsed": true
   },
   "outputs": [],
   "source": [
    "msd = get_msd(particles_data)"
   ]
  },
  {
   "cell_type": "code",
   "execution_count": 10,
   "metadata": {},
   "outputs": [
    {
     "data": {
      "text/plain": [
       "(4001,)"
      ]
     },
     "execution_count": 10,
     "metadata": {},
     "output_type": "execute_result"
    }
   ],
   "source": [
    "msd.shape"
   ]
  },
  {
   "cell_type": "code",
   "execution_count": 12,
   "metadata": {},
   "outputs": [
    {
     "data": {
      "image/png": "[encoded data removed]",
      "text/plain": [
       "<matplotlib.figure.Figure at 0x7f3981e82630>"
      ]
     },
     "metadata": {},
     "output_type": "display_data"
    }
   ],
   "source": [
    "plt.plot(range(len(msd)), msd, \".\")\n",
    "plt.xscale(\"log\")\n",
    "plt.yscale(\"log\")\n",
    "plt.show()"
   ]
  },
  {
   "cell_type": "code",
   "execution_count": null,
   "metadata": {
    "collapsed": true
   },
   "outputs": [],
   "source": []
  }
 ],
 "metadata": {
  "kernelspec": {
   "display_name": "Python 3",
   "language": "python",
   "name": "python3"
  },
  "language_info": {
   "codemirror_mode": {
    "name": "ipython",
    "version": 3
   },
   "file_extension": ".py",
   "mimetype": "text/x-python",
   "name": "python",
   "nbconvert_exporter": "python",
   "pygments_lexer": "ipython3",
   "version": "3.6.2"
  }
 },
 "nbformat": 4,
 "nbformat_minor": 2
}
