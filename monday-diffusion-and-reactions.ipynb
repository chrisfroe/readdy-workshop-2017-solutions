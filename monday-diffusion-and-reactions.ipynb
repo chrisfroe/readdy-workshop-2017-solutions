{
 "cells": [
  {
   "cell_type": "markdown",
   "metadata": {},
   "source": [
    "# ReaDDy introduction"
   ]
  },
  {
   "cell_type": "code",
   "execution_count": 1,
   "metadata": {
    "collapsed": true
   },
   "outputs": [],
   "source": [
    "import numpy as np\n",
    "import matplotlib.pyplot as plt\n",
    "import contextlib as cl\n",
    "import time\n",
    "\n",
    "import readdy._internal as api\n",
    "api.set_logging_level(\"debug\")"
   ]
  },
  {
   "cell_type": "code",
   "execution_count": 2,
   "metadata": {
    "collapsed": true
   },
   "outputs": [],
   "source": [
    "sim = api.Simulation()\n",
    "sim.set_kernel(\"SingleCPU\")\n",
    "sim.box_size = api.Vec(60, 20, 20)\n",
    "sim.periodic_boundary = [True, True, True]"
   ]
  },
  {
   "cell_type": "markdown",
   "metadata": {},
   "source": [
    "#### Particle types for particles subject to brownian motion can be defined"
   ]
  },
  {
   "cell_type": "code",
   "execution_count": 3,
   "metadata": {},
   "outputs": [
    {
     "data": {
      "text/plain": [
       "4"
      ]
     },
     "execution_count": 3,
     "metadata": {},
     "output_type": "execute_result"
    }
   ],
   "source": [
    "sim.register_particle_type(\"A\", diffusion_coefficient=1.0, radius=1.0)\n",
    "sim.register_particle_type(\"B\", diffusion_coefficient=1.0, radius=1.0)\n",
    "sim.register_particle_type(\"C\", diffusion_coefficient=0.1, radius=1.0)\n",
    "sim.register_particle_type(\"Source A\", diffusion_coefficient=0, radius=1.0)\n",
    "sim.register_particle_type(\"Source B\", diffusion_coefficient=0, radius=1.0)"
   ]
  },
  {
   "cell_type": "markdown",
   "metadata": {},
   "source": [
    "#### which can interact with potentials"
   ]
  },
  {
   "cell_type": "code",
   "execution_count": 4,
   "metadata": {},
   "outputs": [
    {
     "data": {
      "text/plain": [
       "5"
      ]
     },
     "execution_count": 4,
     "metadata": {},
     "output_type": "execute_result"
    }
   ],
   "source": [
    "sim.register_potential_harmonic_repulsion(\"A\", \"A\", force_constant=10)\n",
    "sim.register_potential_harmonic_repulsion(\"B\", \"B\", force_constant=10)\n",
    "sim.register_potential_box(\"Source A\", force_constant=10, origin=api.Vec(-25, -3, -3), \n",
    "                           extent=api.Vec(50, 6, 6), consider_particle_radius=False)\n",
    "sim.register_potential_box(\"Source B\", force_constant=10, origin=api.Vec(-25, -3, -3), \n",
    "                           extent=api.Vec(50, 6, 6), consider_particle_radius=False)\n",
    "sim.register_potential_box(\"A\", force_constant=10, origin=api.Vec(-25, -3, -3), \n",
    "                           extent=api.Vec(50, 6, 6), consider_particle_radius=False)\n",
    "sim.register_potential_box(\"B\", force_constant=10, origin=api.Vec(-25, -3, -3), \n",
    "                           extent=api.Vec(50, 6, 6), consider_particle_radius=False)"
   ]
  },
  {
   "cell_type": "markdown",
   "metadata": {},
   "source": [
    "add particles"
   ]
  },
  {
   "cell_type": "code",
   "execution_count": 5,
   "metadata": {
    "collapsed": true
   },
   "outputs": [],
   "source": [
    "for idx, particle_type in enumerate([\"Source A\", \"Source B\"]):\n",
    "    for i in range(20):\n",
    "        yz = np.random.uniform(-2.5, 2.5, size=2)\n",
    "        x = np.random.uniform(-25, -24) if idx == 0 else np.random.uniform(24, 25)\n",
    "        sim.add_particle(particle_type, api.Vec(x, yz[0], yz[1]))"
   ]
  },
  {
   "cell_type": "markdown",
   "metadata": {},
   "source": [
    "#### particles can also interact with reactions\n",
    "\n",
    "- Conversion type reactions A -> B\n",
    "- Fusion type reactions A+B -> C\n",
    "- Fission type reactions A -> B+C\n",
    "- Enzymatic type reactions A+C -> B+C"
   ]
  },
  {
   "cell_type": "code",
   "execution_count": 6,
   "metadata": {},
   "outputs": [
    {
     "data": {
      "text/plain": [
       "2"
      ]
     },
     "execution_count": 6,
     "metadata": {},
     "output_type": "execute_result"
    }
   ],
   "source": [
    "sim.register_reaction_fission(\"Factory creation A\", from_type=\"Source A\", to_type1=\"Source A\", \n",
    "                              to_type2=\"A\", rate=1.0, product_distance=1., weight1=.0, weight2=1.)\n",
    "sim.register_reaction_fusion(\"Factory absorption A\", from_type1=\"Source A\", from_type2=\"A\", \n",
    "                             to_type=\"Source A\", rate=1., educt_distance=1., weight1=.0, weight2=1.)\n",
    "sim.register_reaction_fission(\"Factory creation B\", from_type=\"Source B\", to_type1=\"Source B\", \n",
    "                              to_type2=\"B\", rate=1.0, product_distance=1., weight1=.0, weight2=1.)\n",
    "sim.register_reaction_fusion(\"Factory absorption B\", from_type1=\"Source B\", from_type2=\"B\", \n",
    "                             to_type=\"Source B\", rate=1., educt_distance=1., weight1=.0, weight2=1.)\n",
    "sim.register_reaction_fusion(\"Annihilation\", from_type1=\"A\", from_type2=\"B\", to_type=\"C\", rate=1., \n",
    "                             educt_distance=1.)\n",
    "sim.register_reaction_decay(\"C Decay\", particle_type=\"C\", rate=1.)"
   ]
  },
  {
   "cell_type": "markdown",
   "metadata": {},
   "source": [
    "### run the simulation"
   ]
  },
  {
   "cell_type": "code",
   "execution_count": 7,
   "metadata": {},
   "outputs": [
    {
     "name": "stdout",
     "output_type": "stream",
     "text": [
      "Simulated 13.202293875000578 seconds\n"
     ]
    }
   ],
   "source": [
    "traj_handle = sim.register_observable_flat_trajectory(stride=1)\n",
    "with cl.closing(api.File(\"out.h5\", api.FileAction.CREATE, api.FileFlag.OVERWRITE)) as f:\n",
    "    traj_handle.enable_write_to_file(f, \"traj\", 5000)\n",
    "    t1 = time.perf_counter()\n",
    "    sim.run_scheme_readdy(True)\\\n",
    "        .write_config_to_file(f)\\\n",
    "        .configure_and_run(10000, 1e-2)\n",
    "    t2 = time.perf_counter()\n",
    "print(\"Simulated\", t2 - t1, \"seconds\")"
   ]
  },
  {
   "cell_type": "markdown",
   "metadata": {},
   "source": [
    "## output"
   ]
  },
  {
   "cell_type": "code",
   "execution_count": 8,
   "metadata": {},
   "outputs": [
    {
     "name": "stdout",
     "output_type": "stream",
     "text": [
      "Conversion took 8.064319133000026 seconds\n"
     ]
    }
   ],
   "source": [
    "t1 = time.perf_counter()\n",
    "api.convert_xyz(\"./out.h5\", \"traj\", \"./traj.xyz\", radii={\"Source A\": 1., \"Source B\": 1., \"A\": 1., \"B\": 1., \"C\": 1.})\n",
    "t2 = time.perf_counter()\n",
    "print(\"Conversion took\", t2 - t1, \"seconds\")"
   ]
  },
  {
   "cell_type": "markdown",
   "metadata": {},
   "source": [
    "## Observables"
   ]
  },
  {
   "cell_type": "code",
   "execution_count": null,
   "metadata": {
    "collapsed": true
   },
   "outputs": [],
   "source": []
  }
 ],
 "metadata": {
  "kernelspec": {
   "display_name": "Python 3",
   "language": "python",
   "name": "python3"
  },
  "language_info": {
   "codemirror_mode": {
    "name": "ipython",
    "version": 3
   },
   "file_extension": ".py",
   "mimetype": "text/x-python",
   "name": "python",
   "nbconvert_exporter": "python",
   "pygments_lexer": "ipython3",
   "version": "3.6.1"
  }
 },
 "nbformat": 4,
 "nbformat_minor": 2
}
