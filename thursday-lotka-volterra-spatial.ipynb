{
 "cells": [
  {
   "cell_type": "code",
   "execution_count": 112,
   "metadata": {},
   "outputs": [],
   "source": [
    "import os\n",
    "import numpy as np\n",
    "import readdy"
   ]
  },
  {
   "cell_type": "code",
   "execution_count": 113,
   "metadata": {},
   "outputs": [],
   "source": [
    "system = readdy.ReactionDiffusionSystem([140.,140.,10.], periodic_boundary_conditions=[True, True, True], unit_system=None)"
   ]
  },
  {
   "cell_type": "code",
   "execution_count": 114,
   "metadata": {},
   "outputs": [],
   "source": [
    "diff_factor = 0.3\n",
    "system.add_species(\"A\", diff_factor*0.05)\n",
    "system.add_species(\"B\", diff_factor*0.02)\n",
    "\n",
    "# the potential that confines particles\n",
    "origin = np.array([-36.*2,-36.*2,-0.001])\n",
    "extent = np.array([72.*2,72.*2,0.002])\n",
    "system.potentials.add_box(\"A\", force_constant=200., origin=origin, extent=extent)\n",
    "system.potentials.add_box(\"B\", force_constant=200., origin=origin, extent=extent)\n",
    "\n",
    "system.potentials.add_harmonic_repulsion(\"B\", \"B\", force_constant=40., interaction_distance=2.)\n",
    "system.potentials.add_harmonic_repulsion(\"A\", \"A\", force_constant=40., interaction_distance=2.)\n",
    "\n",
    "factor = 7.\n",
    "eat_speedup = 1.5\n",
    "decay_speedup = 1.2\n",
    "birth_speedup = 1.3\n",
    "system.reactions.add(\"birth: A -> A +(2) A\", birth_speedup*factor*3.8e-1)\n",
    "system.reactions.add(\"eat: A +(2) B -> B + B\", eat_speedup*factor*0.3e-1)\n",
    "system.reactions.add(\"decay: B -> \", decay_speedup*factor*0.5e-1)"
   ]
  },
  {
   "cell_type": "code",
   "execution_count": 115,
   "metadata": {},
   "outputs": [],
   "source": [
    "simulation = system.simulation(\"SingleCPU\")"
   ]
  },
  {
   "cell_type": "code",
   "execution_count": 116,
   "metadata": {},
   "outputs": [],
   "source": [
    "# add particles\n",
    "small_extent = np.array([5., 5., 0.])\n",
    "rnd = np.random.normal\n",
    "for i in range(50):\n",
    "    pos = rnd(size=3) * small_extent\n",
    "    simulation.add_particle(\"A\", pos)\n",
    "    pos = rnd(size=3) * small_extent\n",
    "    simulation.add_particle(\"B\", pos)"
   ]
  },
  {
   "cell_type": "code",
   "execution_count": 117,
   "metadata": {},
   "outputs": [
    {
     "name": "stdout",
     "output_type": "stream",
     "text": [
      "Configured kernel context with:\n",
      "--------------------------------\n",
      " - kBT = 1\n",
      " - periodic b.c. = (true, true, true)\n",
      " - box size = (140, 140, 10)\n",
      " - particle types:\n",
      "     *  particle type \"B\" with D=0.006\n",
      "     *  particle type \"A\" with D=0.015\n",
      " - potentials of order 1:\n",
      "     * for type \"A\"\n",
      "         * Box potential with origin=(-72, -72, -0.001), extent=(144, 144, 0.002), and force constant k=200\n",
      "     * for type \"B\"\n",
      "         * Box potential with origin=(-72, -72, -0.001), extent=(144, 144, 0.002), and force constant k=200\n",
      " - potentials of order 2:\n",
      "     * for types \"B\" and \"B\"\n",
      "         * Harmonic repulsion with force constant k=40\n",
      "     * for types \"A\" and \"A\"\n",
      "         * Harmonic repulsion with force constant k=40\n",
      " - unimolecular reactions:\n",
      "     * Fission A -> A + A with a rate of 3.458, a product distance of 2, and weights 0.5 and 0.5\n",
      "     * Decay B -> ø with a rate of 0.42\n",
      " - bimolecular reactions:\n",
      "     * Enzymatic A + B -> B + B with a rate of 0.315 and an educt distance of 2\n",
      "\n"
     ]
    },
    {
     "data": {
      "application/vnd.jupyter.widget-view+json": {
       "model_id": "f91beb19dff748b7a90f10932be30707",
       "version_major": 2,
       "version_minor": 0
      },
      "text/html": [
       "<p>Failed to display Jupyter Widget of type <code>HBox</code>.</p>\n",
       "<p>\n",
       "  If you're reading this message in the Jupyter Notebook or JupyterLab Notebook, it may mean\n",
       "  that the widgets JavaScript is still loading. If this message persists, it\n",
       "  likely means that the widgets JavaScript library is either not installed or\n",
       "  not enabled. See the <a href=\"https://ipywidgets.readthedocs.io/en/stable/user_install.html\">Jupyter\n",
       "  Widgets Documentation</a> for setup instructions.\n",
       "</p>\n",
       "<p>\n",
       "  If you're reading this message in another frontend (for example, a static\n",
       "  rendering on GitHub or <a href=\"https://nbviewer.jupyter.org/\">NBViewer</a>),\n",
       "  it may mean that your frontend doesn't currently support widgets.\n",
       "</p>\n"
      ],
      "text/plain": [
       "HBox(children=(HBox(children=(Label(value='Simulation progress'),), layout=Layout(max_width='35%', min_width='35%')), HBox(children=(IntProgress(value=0, max=500), HTML(value='')), layout=Layout(padding='0 0 0 20px'))), layout=Layout(display='flex', width='100%'))"
      ]
     },
     "metadata": {},
     "output_type": "display_data"
    },
    {
     "name": "stdout",
     "output_type": "stream",
     "text": [
      "A 50, B 50\n",
      "A 981, B 2319\n",
      "A 582, B 3322\n",
      "A 743, B 4892\n",
      "A 1109, B 5806\n",
      "A 1543, B 8538\n",
      "A 1580, B 10368\n",
      "A 1825, B 12195\n",
      "A 2261, B 15528\n",
      "A 2410, B 17806\n",
      "A 1899, B 17636\n",
      "A 1967, B 16157\n",
      "A 2004, B 15971\n",
      "A 2481, B 15886\n",
      "A 2561, B 18708\n",
      "A 2552, B 20021\n",
      "A 2031, B 18799\n",
      "A 1423, B 16115\n",
      "A 1408, B 13212\n",
      "A 1771, B 12611\n",
      "A 3844, B 16483\n",
      "A 3279, B 23053\n",
      "A 1760, B 21958\n",
      "A 1377, B 15588\n",
      "A 1676, B 13352\n",
      "A 1946, B 14281\n",
      "A 2386, B 15329\n",
      "A 3269, B 19447\n",
      "A 2537, B 20655\n",
      "A 1766, B 19089\n",
      "A 1963, B 16166\n",
      "A 1941, B 14740\n",
      "A 2014, B 15308\n",
      "A 2761, B 17140\n",
      "A 2764, B 20554\n",
      "A 2071, B 20348\n",
      "A 1656, B 18298\n",
      "A 1613, B 15699\n",
      "A 2757, B 16913\n",
      "A 2931, B 20789\n",
      "A 2296, B 21281\n",
      "A 1563, B 18004\n",
      "A 1550, B 13806\n",
      "A 2390, B 14679\n",
      "A 2704, B 18074\n",
      "A 2873, B 21599\n",
      "A 1817, B 18990\n",
      "A 1542, B 17145\n",
      "A 1554, B 14111\n",
      "A 1970, B 14123\n",
      "A 3032, B 16307\n",
      "A 2690, B 19209\n",
      "A 3206, B 22710\n",
      "A 1700, B 21391\n",
      "A 1679, B 16542\n",
      "A 2144, B 15045\n",
      "A 2312, B 16679\n",
      "A 2125, B 17732\n",
      "A 2687, B 19235\n",
      "A 2860, B 21974\n",
      "A 1624, B 18171\n",
      "A 1981, B 16685\n",
      "A 1645, B 14752\n",
      "A 2045, B 15894\n",
      "A 2667, B 17315\n",
      "A 2611, B 19557\n",
      "A 2298, B 20764\n",
      "A 1993, B 18430\n",
      "A 2144, B 17142\n",
      "A 2485, B 18462\n",
      "A 2847, B 19635\n",
      "A 2229, B 19425\n",
      "A 1803, B 17229\n",
      "A 2112, B 15885\n",
      "A 2259, B 16465\n",
      "A 2283, B 18100\n",
      "A 2816, B 20127\n",
      "A 2321, B 23017\n",
      "A 1811, B 18003\n",
      "A 1494, B 15162\n",
      "A 2423, B 14397\n",
      "A 2639, B 19375\n",
      "A 2709, B 20566\n",
      "A 2285, B 19783\n",
      "A 1744, B 17737\n",
      "A 2276, B 15980\n",
      "A 2788, B 17529\n",
      "A 2457, B 19214\n",
      "A 2357, B 20122\n",
      "A 2438, B 20261\n",
      "A 1876, B 18306\n",
      "A 1739, B 16090\n",
      "A 2453, B 16050\n",
      "A 3456, B 20266\n",
      "A 2072, B 21116\n",
      "A 1709, B 18606\n",
      "A 2067, B 16258\n",
      "A 2288, B 15891\n",
      "A 2584, B 18178\n",
      "A 2525, B 20725\n",
      "A 1762, B 19195\n"
     ]
    }
   ],
   "source": [
    "simulation.output_file = \"wavefront18-long.h5\"\n",
    "if os.path.exists(simulation.output_file):\n",
    "    os.remove(simulation.output_file)\n",
    "simulation.record_trajectory(10)\n",
    "simulation.observe.number_of_particles(\n",
    "    100, types=[\"A\", \"B\"], callback=lambda x: print(\"A {}, B {}\".format(x[0], x[1])))\n",
    "\n",
    "simulation.progress_output_stride = 20\n",
    "simulation.run(10000, 0.02)"
   ]
  },
  {
   "cell_type": "code",
   "execution_count": 118,
   "metadata": {},
   "outputs": [],
   "source": [
    "traj = readdy.Trajectory(simulation.output_file)"
   ]
  },
  {
   "cell_type": "code",
   "execution_count": 119,
   "metadata": {},
   "outputs": [],
   "source": [
    "traj.convert_to_xyz(particle_radii={\"A\": 0.5, \"B\": 0.5})"
   ]
  },
  {
   "cell_type": "code",
   "execution_count": 120,
   "metadata": {},
   "outputs": [],
   "source": [
    "times, n_particles = traj.read_observable_number_of_particles()\n",
    "n_particles = np.array(n_particles)"
   ]
  },
  {
   "cell_type": "code",
   "execution_count": 121,
   "metadata": {},
   "outputs": [
    {
     "data": {
      "text/plain": [
       "Text(0,0.5,'number of particles')"
      ]
     },
     "execution_count": 121,
     "metadata": {},
     "output_type": "execute_result"
    },
    {
     "data": {
      "image/png": "[encoded data removed]",
      "text/plain": [
       "<matplotlib.figure.Figure at 0x7f3441238e80>"
      ]
     },
     "metadata": {},
     "output_type": "display_data"
    }
   ],
   "source": [
    "%matplotlib inline\n",
    "import matplotlib.pyplot as plt\n",
    "plt.plot(times, n_particles[:,0], label=\"A\")\n",
    "plt.plot(times, n_particles[:,1], label=\"B\")\n",
    "plt.xlabel(\"time\")\n",
    "plt.ylabel(\"number of particles\")"
   ]
  },
  {
   "cell_type": "code",
   "execution_count": 122,
   "metadata": {},
   "outputs": [
    {
     "data": {
      "text/plain": [
       "Text(0,0.5,'B')"
      ]
     },
     "execution_count": 122,
     "metadata": {},
     "output_type": "execute_result"
    },
    {
     "data": {
      "image/png": "[encoded data removed]",
      "text/plain": [
       "<matplotlib.figure.Figure at 0x7f3441340860>"
      ]
     },
     "metadata": {},
     "output_type": "display_data"
    }
   ],
   "source": [
    "plt.plot(n_particles[:,0], n_particles[:,1])\n",
    "plt.xlabel(\"A\")\n",
    "plt.ylabel(\"B\")"
   ]
  },
  {
   "cell_type": "code",
   "execution_count": null,
   "metadata": {
    "collapsed": true
   },
   "outputs": [],
   "source": []
  }
 ],
 "metadata": {
  "kernelspec": {
   "display_name": "Python 3",
   "language": "python",
   "name": "python3"
  },
  "language_info": {
   "codemirror_mode": {
    "name": "ipython",
    "version": 3
   },
   "file_extension": ".py",
   "mimetype": "text/x-python",
   "name": "python",
   "nbconvert_exporter": "python",
   "pygments_lexer": "ipython3",
   "version": "3.6.4"
  }
 },
 "nbformat": 4,
 "nbformat_minor": 2
}
